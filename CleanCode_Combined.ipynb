{
 "cells": [
  {
   "cell_type": "code",
   "execution_count": 1,
   "metadata": {},
   "outputs": [],
   "source": [
    "# Libraries for interfacing with WFDB data\n",
    "import wfdb\n",
    "from wfdb import processing\n",
    "\n",
    "\n",
    "\n",
    "#Classical libraries \n",
    "import matplotlib.pyplot as plt\n",
    "import matplotlib as mpl\n",
    "\n",
    "import numpy as np\n",
    "import pandas as pd\n",
    "\n",
    "from scipy.integrate import quad\n",
    "from scipy.optimize import curve_fit\n",
    "from numpy import trapz\n",
    "from scipy.stats import norm\n",
    "\n",
    "\n",
    "\n",
    "# importing detrending library\n",
    "import obspy\n",
    "from obspy.signal import detrend"
   ]
  },
  {
   "cell_type": "code",
   "execution_count": 5,
   "metadata": {},
   "outputs": [
    {
     "name": "stdout",
     "output_type": "stream",
     "text": [
      "physionet.org/files/fantasia/1.0.0/ <class 'str'>\n"
     ]
    }
   ],
   "source": [
    "paths = {'Fantasia':'physionet.org/files/fantasia/1.0.0/', 'MIT':'physionet.org/files/nsrdb/1.0.0/', 'Chfdb': 'physionet.org/files/chfdb/1.0.0/'}\n",
    "print(paths['Fantasia'], type(paths['Fantasia']))"
   ]
  },
  {
   "attachments": {},
   "cell_type": "markdown",
   "metadata": {},
   "source": [
    "## This function its used to store the ECG data inside the original files into a Pandas Dataframe"
   ]
  },
  {
   "cell_type": "code",
   "execution_count": null,
   "metadata": {},
   "outputs": [],
   "source": [
    "def import_ecg(path, files):\n",
    "    \n",
    "    '''\n",
    "    Return ECG and RR_intervals dataframe.\n",
    "    \n",
    "    Inputs:\n",
    "        path: path to the data's files\n",
    "        files: files name without extentions\n",
    "    \n",
    "    outputs:\n",
    "    return:\n",
    "        ECG_sig: DataFrame with EGC signal for each file in each columns\n",
    "        RR_intervals: DataFrame where in each columns are stored the interbeats intervals for each files\n",
    "    '''\n",
    "\n",
    "\n",
    "    # DataFrames to handle all signals (RAW ECG, RR intervals, Annotations, ...)\n",
    "    ECG_sig=pd.DataFrame(columns=files)\n",
    "\n",
    "    RR_intervals = pd.DataFrame(columns=files)\n",
    "\n",
    "    # Read ECG data from files and store them in Pandas DataFrame\n",
    "    # Save fields too, for further optional analysis\n",
    "    signals_dfs=[]\n",
    "    rr_dfs=[]\n",
    "\n",
    "    if path == paths['Fantasia']: \n",
    "        for file in files:\n",
    "                sig, fields =  wfdb.rdsamp(path + file, channels=[1]) # channel 1 maps to ECG data\n",
    "                signals_dfs.append(pd.DataFrame({file: sig.T[0]}))\n",
    "\n",
    "                xqrs = processing.XQRS(sig=-sig[:,0], fs=fields['fs'])\n",
    "                xqrs.detect()\n",
    "                rr=processing.calc_rr(xqrs.qrs_inds, fs=fields['fs'])\n",
    "            \n",
    "                rr_dfs.append(pd.DataFrame({file: rr}))\n",
    "\n",
    "        ECG_sig=pd.concat(signals_dfs, ignore_index=True, axis=1)\n",
    "        ECG_sig.columns=files\n",
    "\n",
    "        RR_intervals=pd.concat(rr_dfs, ignore_index=True, axis=1)\n",
    "        RR_intervals.columns=files\n",
    "        \n",
    "        return ECG_sig, RR_intervals\n",
    "    \n",
    "    else: \n",
    "         for file in files: \n",
    "              rr = processing.ann2rr(path+file, extension='ecg')\n",
    "            rr_dfs.append(pd.DataFrame({file: rr}))\n",
    "         \n",
    "        RR_intervals=pd.concat(rr_dfs, ignore_index=True, axis=1)\n",
    "        RR_intervals.columns=files\n",
    "        return RR_intervals\n",
    "\n",
    "    \n",
    "    "
   ]
  },
  {
   "cell_type": "code",
   "execution_count": null,
   "metadata": {},
   "outputs": [],
   "source": []
  }
 ],
 "metadata": {
  "kernelspec": {
   "display_name": "base",
   "language": "python",
   "name": "python3"
  },
  "language_info": {
   "codemirror_mode": {
    "name": "ipython",
    "version": 3
   },
   "file_extension": ".py",
   "mimetype": "text/x-python",
   "name": "python",
   "nbconvert_exporter": "python",
   "pygments_lexer": "ipython3",
   "version": "3.9.13"
  },
  "orig_nbformat": 4,
  "vscode": {
   "interpreter": {
    "hash": "f464033afa1f50595209177b7e96615faf028848d88c0a5f4e9943d0494c6544"
   }
  }
 },
 "nbformat": 4,
 "nbformat_minor": 2
}
